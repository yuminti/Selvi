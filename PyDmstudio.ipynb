{
 "cells": [
  {
   "cell_type": "markdown",
   "id": "84f7e40e",
   "metadata": {},
   "source": [
    "## BLOCKMODEL GEOLOGI STEP BY STEP DENGAN DATAMINE STUDIO RM DAN PYTHON\n"
   ]
  },
  {
   "cell_type": "markdown",
   "id": "1ecbea81",
   "metadata": {},
   "source": [
    "Salah satu cara untuk mempercepat proses pembuatan blokmodel dengan Datamine adalah menggunakan script atau macro. Tetapi hal ini terkadang sulit dimengerti oleh geologis pemula, karena tidak mengetahui proses yang terjadi di balik script atau macro tersebut. \n",
    "Jupyter notebook / python akan membantu proses automatisasi sekaligus memperlihatkan secara transparan proses yang terjadi.\n",
    "Berikut beberapa keuntungan menggunakan Jupyter notebook python untuk proses pembuatan blokmodel :\n",
    "* Membantu geologis pemula untuk belajar step by step pembuatan blokmodel\n",
    "* Membantu tracing pembuatan blokmodel / logbook, sehingga mempermudah pekerjaan peer review blokmodel.\n",
    "* Bisa dijadikan bukti otentik jika suatu saat diaudit atau dispute/perkara pengadilan.\n",
    "* Mempercepat proses pembuatan blokmodel.\n",
    "Pada notebook ini, penggunaan python melalui package 'dmstudio' yang dibuat oleh Sean Horan, package bisa di ambil di https://github.com/seanhoran/dmstudio.\n",
    "\n",
    "##### IDE menggunakan Anaconda.\n",
    "##### Selvi Yuminti, Desember 2021.\n",
    "##### Version 1.0"
   ]
  },
  {
   "cell_type": "code",
   "execution_count": 1,
   "id": "e071c87b",
   "metadata": {},
   "outputs": [],
   "source": [
    "import pandas as pd"
   ]
  },
  {
   "cell_type": "code",
   "execution_count": 2,
   "id": "060e779e",
   "metadata": {},
   "outputs": [],
   "source": [
    "import win32com.client as client "
   ]
  },
  {
   "cell_type": "code",
   "execution_count": 3,
   "id": "3abdca0c",
   "metadata": {},
   "outputs": [],
   "source": [
    "oScript = client.Dispatch(\"Datamine.StudioRM.Application\")"
   ]
  },
  {
   "cell_type": "code",
   "execution_count": 4,
   "id": "1e5c953c",
   "metadata": {},
   "outputs": [
    {
     "name": "stdout",
     "output_type": "stream",
     "text": [
      "pyrpa module not found, only available to SLR employees\n"
     ]
    }
   ],
   "source": [
    "import dmstudio.dmcommands as dmcommands  # panggil package dmstudio"
   ]
  },
  {
   "cell_type": "code",
   "execution_count": 5,
   "id": "c4a74c67",
   "metadata": {},
   "outputs": [],
   "source": [
    "dm = dmcommands.init() # memulai koneksi ke Datamine Studio RM"
   ]
  },
  {
   "cell_type": "markdown",
   "id": "4723dd23",
   "metadata": {},
   "source": [
    "## 1. Pembuatan drillhole 3D\n",
    "Untuk import file assay dan collar tidak dimasukkan ke dalam step, begitu juga proses ETL dan EDA. Jadi asumsi di sini adalah file assay.dm dan collar.dm sudah ada di direktori kerja."
   ]
  },
  {
   "cell_type": "code",
   "execution_count": 6,
   "id": "e6672db6",
   "metadata": {},
   "outputs": [
    {
     "name": "stdout",
     "output_type": "stream",
     "text": [
      "holes3d  &collar=collar &sample1=assay  &out=holes1 &holesmry=hls_smry &errors=hls_err *bhid=BHID *xcollar=XCOLLAR *ycollar=YCOLLAR *zcollar=ZCOLLAR *from=FROM *to=TO @survsmth=1 @endpoint=0 @dipmeth=-1 @print=0\n"
     ]
    }
   ],
   "source": [
    "dm.holes3d(\n",
    "    collar_i='collar',\n",
    "    survey_i='optional',\n",
    "    samples_i=['assay'],\n",
    "    out_o='holes1',\n",
    "    holesmry_o='hls_smry',\n",
    "    errors_o='hls_err',\n",
    "    bhid_f='BHID',\n",
    "    xcollar_f='XCOLLAR',\n",
    "    ycollar_f='YCOLLAR',\n",
    "    zcollar_f='ZCOLLAR',\n",
    "    from_f='FROM',\n",
    "    to_f='TO',\n",
    "    at_f='optional',\n",
    "    brg_f='optional',\n",
    "    dip_f='optional',\n",
    "    survsmth_p=1,\n",
    "    endpoint_p=0,\n",
    "    dipmeth_p=-1,\n",
    "    print_p=0,\n",
    "    retrieval='optional',\n",
    ")\n"
   ]
  },
  {
   "cell_type": "markdown",
   "id": "2d5ba9d2",
   "metadata": {},
   "source": [
    "## 2. Kalkulasi LDW\n",
    "Beberapa assay, sudah berisi data LDW1 dan LDW6, jika belum ada, run perintah di bawah."
   ]
  },
  {
   "cell_type": "code",
   "execution_count": 7,
   "id": "1f9266ae",
   "metadata": {},
   "outputs": [],
   "source": [
    "dm.extra(\n",
    "    in_i='holes1',\n",
    "    out_o='holes',\n",
    "    print_p='optional',\n",
    "    approx_p='optional',\n",
    "    expression=['LDW1=DW1/LENGTH','LDW6=DW6/LENGTH'],\n",
    "    retrieval='optional',\n",
    ")"
   ]
  },
  {
   "cell_type": "markdown",
   "id": "02a89914",
   "metadata": {},
   "source": [
    "## 3. Membuat layer points dari drillhole"
   ]
  },
  {
   "cell_type": "code",
   "execution_count": 8,
   "id": "95a5d2bb",
   "metadata": {},
   "outputs": [],
   "source": [
    "dm.seldel(\n",
    "    in_i='holes',\n",
    "    fieldlst_i='optional',\n",
    "    out_o='t_sel',\n",
    "    f1_f='NITOT',\n",
    "    f2_f='COTOT',\n",
    "    f3_f='FETOT',\n",
    "    f4_f='SIO2TOT',\n",
    "    f5_f='MGOTOT',\n",
    "    f6_f='CRTOT',\n",
    "    f7_f='ALTOT',\n",
    "    f8_f='MNTOT',\n",
    "    f9_f='CATOT',\n",
    "    f10_f='optional',\n",
    "    f11_f='optional',\n",
    "    f12_f='optional',\n",
    "    f13_f='optional',\n",
    "    f14_f='optional',\n",
    "    f15_f='optional',\n",
    "    f16_f='optional',\n",
    "    f17_f='optional',\n",
    "    f18_f='optional',\n",
    "    f19_f='optional',\n",
    "    f20_f='optional',\n",
    "    f21_f='optional',\n",
    "    f22_f='optional',\n",
    "    f23_f='optional',\n",
    "    f24_f='optional',\n",
    "    f25_f='optional',\n",
    "    fieldnam_f='optional',\n",
    "    retrieval='optional',\n",
    ")"
   ]
  },
  {
   "cell_type": "code",
   "execution_count": 9,
   "id": "5cfa0977",
   "metadata": {},
   "outputs": [],
   "source": [
    "dm.copy(in_i='t_sel', out_o='t_holes', retrieval='optional')"
   ]
  },
  {
   "cell_type": "markdown",
   "id": "60c5dfa9",
   "metadata": {},
   "source": [
    "### Membuat LIM top"
   ]
  },
  {
   "cell_type": "code",
   "execution_count": 10,
   "id": "7533fb20",
   "metadata": {},
   "outputs": [],
   "source": [
    "dm.extra(\n",
    "    in_i='t_holes',\n",
    "    out_o='t_2',\n",
    "    print_p='optional',\n",
    "    approx_p='optional',\n",
    "    expression=['FIRST;N=0 IF(PREV(BHID)!=BHID) FIRST=1 END', 'IF(FIRST==1) ZPT=Z+((LENGTH/2)*SIN(B0)) END', 'IF(FIRST==1) XPT=X-((LENGTH/2)*COS(B0))*SIN(A0) END', 'IF(FIRST==1) YPT=Y-((LENGTH/2)*COS(B0))*COS(A0) END'],\n",
    "    retrieval='optional',\n",
    ")"
   ]
  },
  {
   "cell_type": "code",
   "execution_count": 11,
   "id": "1564b73d",
   "metadata": {},
   "outputs": [],
   "source": [
    "dm.extra(\n",
    "    in_i='t_2',\n",
    "    out_o='t_first',\n",
    "    print_p='optional',\n",
    "    approx_p='optional',\n",
    "    expression=['COLOUR=1','SYMBOL=201'],\n",
    "    retrieval='FIRST=1',\n",
    ")"
   ]
  },
  {
   "cell_type": "code",
   "execution_count": 12,
   "id": "5ebaa559",
   "metadata": {},
   "outputs": [],
   "source": [
    "dm.selcop(\n",
    "    in_i='t_first',\n",
    "    fieldlst_i='optional',\n",
    "    out_o='ltoppts',\n",
    "    f1_f='XPT',\n",
    "    f2_f='YPT',\n",
    "    f3_f='ZPT',\n",
    "    f4_f='COLOUR',\n",
    "    f5_f='SYMBOL',\n",
    "    f6_f='optional',\n",
    "    f7_f='optional',\n",
    "    f8_f='optional',\n",
    "    f9_f='optional',\n",
    "    f10_f='optional',\n",
    "    f11_f='optional',\n",
    "    f12_f='optional',\n",
    "    f13_f='optional',\n",
    "    f14_f='optional',\n",
    "    f15_f='optional',\n",
    "    f16_f='optional',\n",
    "    f17_f='optional',\n",
    "    f18_f='optional',\n",
    "    f19_f='optional',\n",
    "    f20_f='optional',\n",
    "    f21_f='optional',\n",
    "    f22_f='optional',\n",
    "    f23_f='optional',\n",
    "    f24_f='optional',\n",
    "    f25_f='optional',\n",
    "    fieldnam_f='optional',\n",
    "    retrieval='optional',\n",
    ")"
   ]
  },
  {
   "cell_type": "markdown",
   "id": "da3eb590",
   "metadata": {},
   "source": [
    "### Membuat BRK Bottom = EOH in Core DHS"
   ]
  },
  {
   "cell_type": "code",
   "execution_count": 13,
   "id": "e759eeda",
   "metadata": {},
   "outputs": [],
   "source": [
    "dm.extra(\n",
    "    in_i='t_holes',\n",
    "    out_o='t_3',\n",
    "    print_p='optional',\n",
    "    approx_p='optional',\n",
    "    expression=['LAST;N=0 IF(NEXT(BHID)!=BHID) LAST=1 END', 'IF(LAST==1) ZPT=Z-((LENGTH/2)*SIN(B0)) END', 'IF(LAST==1) XPT=X+((LENGTH/2)*COS(B0))*SIN(A0) END', 'IF(LAST==1) YPT=Y+((LENGTH/2)*COS(B0))*COS(A0) END'],\n",
    "    retrieval='optional',\n",
    ")"
   ]
  },
  {
   "cell_type": "code",
   "execution_count": 14,
   "id": "5b0411f1",
   "metadata": {},
   "outputs": [],
   "source": [
    "dm.extra(\n",
    "    in_i='t_3',\n",
    "    out_o='t_4',\n",
    "    print_p='optional',\n",
    "    approx_p='optional',\n",
    "    expression=['COLOUR=4','SYMBOL=201'],\n",
    "    retrieval='LAST=1',\n",
    ")"
   ]
  },
  {
   "cell_type": "code",
   "execution_count": 15,
   "id": "8e711be4",
   "metadata": {},
   "outputs": [],
   "source": [
    "dm.selcop(\n",
    "    in_i='t_4',\n",
    "    fieldlst_i='optional',\n",
    "    out_o='bbotpts',\n",
    "    f1_f='XPT',\n",
    "    f2_f='YPT',\n",
    "    f3_f='ZPT',\n",
    "    f4_f='COLOUR',\n",
    "    f5_f='SYMBOL',\n",
    "    f6_f='optional',\n",
    "    f7_f='optional',\n",
    "    f8_f='optional',\n",
    "    f9_f='optional',\n",
    "    f10_f='optional',\n",
    "    f11_f='optional',\n",
    "    f12_f='optional',\n",
    "    f13_f='optional',\n",
    "    f14_f='optional',\n",
    "    f15_f='optional',\n",
    "    f16_f='optional',\n",
    "    f17_f='optional',\n",
    "    f18_f='optional',\n",
    "    f19_f='optional',\n",
    "    f20_f='optional',\n",
    "    f21_f='optional',\n",
    "    f22_f='optional',\n",
    "    f23_f='optional',\n",
    "    f24_f='optional',\n",
    "    f25_f='optional',\n",
    "    fieldnam_f='optional',\n",
    "    retrieval='optional',\n",
    ")"
   ]
  },
  {
   "cell_type": "markdown",
   "id": "c7ca5599",
   "metadata": {},
   "source": [
    "### Check file untuk colocated holes dan laporkan dalam file csv"
   ]
  },
  {
   "cell_type": "code",
   "execution_count": 16,
   "id": "f7402da8",
   "metadata": {},
   "outputs": [],
   "source": [
    "dm.sortx(\n",
    "    in_i='t_first',\n",
    "    out_o='t_5',\n",
    "    key1_f='BHID',\n",
    "    key2_f='XPT',\n",
    "    key3_f='YPT',\n",
    "    key4_f='optional',\n",
    "    key5_f='optional',\n",
    "    key6_f='optional',\n",
    "    key7_f='optional',\n",
    "    key8_f='optional',\n",
    "    key9_f='optional',\n",
    "    key10_f='optional',\n",
    "    order_p=1,\n",
    "    keysfrst_p=1,\n",
    "    roworder_p=1,\n",
    "    retrieval='optional',\n",
    ")"
   ]
  },
  {
   "cell_type": "code",
   "execution_count": 17,
   "id": "00fefbbb",
   "metadata": {},
   "outputs": [],
   "source": [
    "dm.selcop(\n",
    "    in_i='t_5',\n",
    "    fieldlst_i='optional',\n",
    "    out_o='t_6',\n",
    "    f1_f='BHID',\n",
    "    f2_f='XPT',\n",
    "    f3_f='YPT',\n",
    "    f4_f='optional',\n",
    "    f5_f='optional',\n",
    "    f6_f='optional',\n",
    "    f7_f='optional',\n",
    "    f8_f='optional',\n",
    "    f9_f='optional',\n",
    "    f10_f='optional',\n",
    "    f11_f='optional',\n",
    "    f12_f='optional',\n",
    "    f13_f='optional',\n",
    "    f14_f='optional',\n",
    "    f15_f='optional',\n",
    "    f16_f='optional',\n",
    "    f17_f='optional',\n",
    "    f18_f='optional',\n",
    "    f19_f='optional',\n",
    "    f20_f='optional',\n",
    "    f21_f='optional',\n",
    "    f22_f='optional',\n",
    "    f23_f='optional',\n",
    "    f24_f='optional',\n",
    "    f25_f='optional',\n",
    "    fieldnam_f='optional',\n",
    "    retrieval='optional',\n",
    ")"
   ]
  },
  {
   "cell_type": "markdown",
   "id": "55ba7a71",
   "metadata": {},
   "source": [
    "#### Terdapat bugs pada dm.count di module dmcommands.py , sehingga command ini belum bisa digunakan, \n",
    "line 5361 if key1_f == \"required\":\n",
    "seharusnya\n",
    "if keys_f[0] == \"required\":\n",
    "\n",
    "\n",
    "dm.count(\n",
    "    in_i='t_6',\n",
    "    out_o='t_bhc',\n",
    "    keys_f=['BHID','XPT','YPT'],\n",
    "    retrieval='optional',\n",
    ")"
   ]
  },
  {
   "cell_type": "markdown",
   "id": "b94865dc",
   "metadata": {},
   "source": [
    "Karena bugs pada dm.count belum diupdate oleh ownernya, kita akan memakai modul win32client dan oScript untuk langsung mendefinisikan perintah 'count' dari Datamine"
   ]
  },
  {
   "cell_type": "code",
   "execution_count": 18,
   "id": "3c6df5c6",
   "metadata": {},
   "outputs": [
    {
     "data": {
      "text/plain": [
       "'count &in=t_6 &out=t_bhc *key1=BHID *key2=XPT *key3=YPT'"
      ]
     },
     "execution_count": 18,
     "metadata": {},
     "output_type": "execute_result"
    }
   ],
   "source": [
    "command_count = \"count &in=t_6 &out=t_bhc *key1=BHID *key2=XPT *key3=YPT\"\n",
    "command_count"
   ]
  },
  {
   "cell_type": "code",
   "execution_count": 19,
   "id": "38cc1cf0",
   "metadata": {},
   "outputs": [],
   "source": [
    "oScript.Parsecommand(command_count)"
   ]
  },
  {
   "cell_type": "code",
   "execution_count": 20,
   "id": "30274ef2",
   "metadata": {},
   "outputs": [],
   "source": [
    "dm.sortx(\n",
    "    in_i='t_bhc',\n",
    "    out_o='t_7',\n",
    "    key1_f='XPT',\n",
    "    key2_f='YPT',\n",
    "    key3_f='BHID',\n",
    "    key4_f='optional',\n",
    "    key5_f='optional',\n",
    "    key6_f='optional',\n",
    "    key7_f='optional',\n",
    "    key8_f='optional',\n",
    "    key9_f='optional',\n",
    "    key10_f='optional',\n",
    "    order_p=1,\n",
    "    keysfrst_p=1,\n",
    "    roworder_p=1,\n",
    "    retrieval='optional',\n",
    ")"
   ]
  },
  {
   "cell_type": "code",
   "execution_count": 21,
   "id": "5592bfb3",
   "metadata": {},
   "outputs": [],
   "source": [
    "dm.copynr(\n",
    "    in_i='t_7',\n",
    "    out_o='t_7a',\n",
    "    base_p='optional',\n",
    "    incrment_p='optional',\n",
    "    retrieval='optional',\n",
    ")"
   ]
  },
  {
   "cell_type": "code",
   "execution_count": 22,
   "id": "bea901f5",
   "metadata": {},
   "outputs": [],
   "source": [
    "dm.extra(\n",
    "    in_i='t_7a',\n",
    "    out_o='t_8',\n",
    "    print_p='optional',\n",
    "    approx_p='optional',\n",
    "    expression=['XDIFF=(XPT-PREV(XPT)) YDIFF=(YPT-PREV(YPT)) XDIFF2=ABS(PREV(XPT)-XPT) YDIFF2=ABS(PREV(YPT)-YPT) DIFFLT1=(XDIFF <=1 AND YDIFF <= 1 AND RECORDNO !=1) DIFF2LT1=(XDIFF2 <= 1 AND YDIFF2 <= 1 AND RECORDNO != 1)', 'IF(DIFFLT1==1 AND DIFF2LT1==1) SAME_XY=1 END'],\n",
    "    retrieval='optional',\n",
    ")"
   ]
  },
  {
   "cell_type": "code",
   "execution_count": 23,
   "id": "f7d26289",
   "metadata": {},
   "outputs": [],
   "source": [
    "dm.extra(\n",
    "    in_i='t_8',\n",
    "    out_o='t_8a',\n",
    "    print_p='optional',\n",
    "    approx_p='optional',\n",
    "    expression=['XDIFF=(XPT-NEXT(XPT)) YDIFF=(YPT-NEXT(YPT)) XDIFF2=ABS(NEXT(XPT)-XPT) YDIFF2=ABS(NEXT(YPT)-YPT) DIFFLT1=(XDIFF <=1 AND YDIFF <= 1) DIFF2LT1=(XDIFF2 <= 1 AND YDIFF2 <= 1)', 'IF(DIFFLT1==1 AND DIFF2LT1==1) SAME_XY=1 END'],\n",
    "    retrieval='optional',\n",
    ")"
   ]
  },
  {
   "cell_type": "code",
   "execution_count": 24,
   "id": "baa8f64e",
   "metadata": {},
   "outputs": [],
   "source": [
    "dm.selcop(\n",
    "    in_i='t_8a',\n",
    "    fieldlst_i='optional',\n",
    "    out_o='t_9',\n",
    "    f1_f='BHID',\n",
    "    f2_f='XPT',\n",
    "    f3_f='YPT',\n",
    "    f4_f='optional',\n",
    "    f5_f='optional',\n",
    "    f6_f='optional',\n",
    "    f7_f='optional',\n",
    "    f8_f='optional',\n",
    "    f9_f='optional',\n",
    "    f10_f='optional',\n",
    "    f11_f='optional',\n",
    "    f12_f='optional',\n",
    "    f13_f='optional',\n",
    "    f14_f='optional',\n",
    "    f15_f='optional',\n",
    "    f16_f='optional',\n",
    "    f17_f='optional',\n",
    "    f18_f='optional',\n",
    "    f19_f='optional',\n",
    "    f20_f='optional',\n",
    "    f21_f='optional',\n",
    "    f22_f='optional',\n",
    "    f23_f='optional',\n",
    "    f24_f='optional',\n",
    "    f25_f='optional',\n",
    "    fieldnam_f='optional',\n",
    "    retrieval='SAME_XY=1',\n",
    ")"
   ]
  },
  {
   "cell_type": "code",
   "execution_count": 25,
   "id": "769245fd",
   "metadata": {},
   "outputs": [],
   "source": [
    "dm.extra(\n",
    "    in_i='t_9',\n",
    "    out_o='t_9a',\n",
    "    print_p='optional',\n",
    "    approx_p='optional',\n",
    "    expression=['X=XPT','Y=YPT'],\n",
    "    retrieval='optional',\n",
    ")"
   ]
  },
  {
   "cell_type": "code",
   "execution_count": 26,
   "id": "a440360b",
   "metadata": {},
   "outputs": [],
   "source": [
    "dm.sortx(\n",
    "    in_i='t_9a',\n",
    "    out_o='colocatd',\n",
    "    key1_f='BHID',\n",
    "    key2_f='X',\n",
    "    key3_f='Y',\n",
    "    key4_f='optional',\n",
    "    key5_f='optional',\n",
    "    key6_f='optional',\n",
    "    key7_f='optional',\n",
    "    key8_f='optional',\n",
    "    key9_f='optional',\n",
    "    key10_f='optional',\n",
    "    order_p=1,\n",
    "    keysfrst_p=1,\n",
    "    roworder_p=1,\n",
    "    retrieval='optional',\n",
    ")"
   ]
  },
  {
   "cell_type": "code",
   "execution_count": 27,
   "id": "db21b821",
   "metadata": {},
   "outputs": [],
   "source": [
    "dm.output(\n",
    "    in_i='colocatd',\n",
    "    fieldlst_i='optional',\n",
    "    f1_f='optional',\n",
    "    f2_f='optional',\n",
    "    f3_f='optional',\n",
    "    f4_f='optional',\n",
    "    f5_f='optional',\n",
    "    f6_f='optional',\n",
    "    f7_f='optional',\n",
    "    f8_f='optional',\n",
    "    f9_f='optional',\n",
    "    f10_f='optional',\n",
    "    f11_f='optional',\n",
    "    f12_f='optional',\n",
    "    f13_f='optional',\n",
    "    f14_f='optional',\n",
    "    f15_f='optional',\n",
    "    f16_f='optional',\n",
    "    f17_f='optional',\n",
    "    f18_f='optional',\n",
    "    f19_f='optional',\n",
    "    f20_f='optional',\n",
    "    f21_f='optional',\n",
    "    f22_f='optional',\n",
    "    f23_f='optional',\n",
    "    f24_f='optional',\n",
    "    f25_f='optional',\n",
    "    fieldnam_f='optional',\n",
    "    csv_p=1,\n",
    "    nodd_p=0,\n",
    "    dplace_p=-1,\n",
    "    implicit_p=0,\n",
    "    csv_o='same_collar_location_drillholes.csv',\n",
    "    retrieval='optional',\n",
    ")"
   ]
  },
  {
   "cell_type": "code",
   "execution_count": 28,
   "id": "06b8a081",
   "metadata": {},
   "outputs": [],
   "source": [
    "dm.delete(in_i='colocatd', confirm_p='optional', retrieval='optional')"
   ]
  },
  {
   "cell_type": "markdown",
   "id": "96e2cf3c",
   "metadata": {},
   "source": [
    "### Cek interval gap pada file holes atau assay dan buat laporan csv-nya"
   ]
  },
  {
   "cell_type": "code",
   "execution_count": 29,
   "id": "972730f0",
   "metadata": {},
   "outputs": [],
   "source": [
    "dm.sortx(\n",
    "    in_i='t_holes',\n",
    "    out_o='t_10',\n",
    "    key1_f='BHID',\n",
    "    key2_f='FROM',\n",
    "    key3_f='TO',\n",
    "    key4_f='optional',\n",
    "    key5_f='optional',\n",
    "    key6_f='optional',\n",
    "    key7_f='optional',\n",
    "    key8_f='optional',\n",
    "    key9_f='optional',\n",
    "    key10_f='optional',\n",
    "    order_p=1,\n",
    "    keysfrst_p=1,\n",
    "    roworder_p=1,\n",
    "    retrieval='optional',\n",
    ")"
   ]
  },
  {
   "cell_type": "code",
   "execution_count": 30,
   "id": "fe32f68a",
   "metadata": {},
   "outputs": [],
   "source": [
    "dm.selcop(\n",
    "    in_i='t_10',\n",
    "    fieldlst_i='optional',\n",
    "    out_o='t_10a',\n",
    "    f1_f='BHID',\n",
    "    f2_f='FROM',\n",
    "    f3_f='TO',\n",
    "    f4_f='optional',\n",
    "    f5_f='optional',\n",
    "    f6_f='optional',\n",
    "    f7_f='optional',\n",
    "    f8_f='optional',\n",
    "    f9_f='optional',\n",
    "    f10_f='optional',\n",
    "    f11_f='optional',\n",
    "    f12_f='optional',\n",
    "    f13_f='optional',\n",
    "    f14_f='optional',\n",
    "    f15_f='optional',\n",
    "    f16_f='optional',\n",
    "    f17_f='optional',\n",
    "    f18_f='optional',\n",
    "    f19_f='optional',\n",
    "    f20_f='optional',\n",
    "    f21_f='optional',\n",
    "    f22_f='optional',\n",
    "    f23_f='optional',\n",
    "    f24_f='optional',\n",
    "    f25_f='optional',\n",
    "    fieldnam_f='optional',\n",
    "    retrieval='optional',\n",
    ")"
   ]
  },
  {
   "cell_type": "code",
   "execution_count": 31,
   "id": "d5e4d34f",
   "metadata": {},
   "outputs": [],
   "source": [
    "dm.extra(\n",
    "    in_i='t_10a',\n",
    "    out_o='t_11',\n",
    "    print_p='optional',\n",
    "    approx_p='optional',\n",
    "    expression=['BHPREV=(PREV(BHID)==BHID) BHNEXT=(NEXT(BHID)==BHID) BADGAP=0 FRMTODIF=ABS(FROM-PREV(TO))', 'IF(BHPREV==1 AND FRMTODIF>0) BADGAP=1 END'],\n",
    "    retrieval='optional',\n",
    ")"
   ]
  },
  {
   "cell_type": "code",
   "execution_count": 32,
   "id": "4bbc3772",
   "metadata": {},
   "outputs": [],
   "source": [
    "dm.extra(\n",
    "    in_i='t_11',\n",
    "    out_o='t_12',\n",
    "    print_p='optional',\n",
    "    approx_p='optional',\n",
    "    expression=['FRMTODF2=ABS(TO-NEXT(FROM))', 'IF(BHNEXT==1 AND FRMTODF2>0) BADGAP=1 END'],\n",
    "    retrieval='optional',\n",
    ")"
   ]
  },
  {
   "cell_type": "code",
   "execution_count": 33,
   "id": "8b8ef6d5",
   "metadata": {},
   "outputs": [],
   "source": [
    "dm.selcop(\n",
    "    in_i='t_12',\n",
    "    fieldlst_i='optional',\n",
    "    out_o='badgap',\n",
    "    f1_f='BHID',\n",
    "    f2_f='FROM',\n",
    "    f3_f='TO',\n",
    "    f4_f='optional',\n",
    "    f5_f='optional',\n",
    "    f6_f='optional',\n",
    "    f7_f='optional',\n",
    "    f8_f='optional',\n",
    "    f9_f='optional',\n",
    "    f10_f='optional',\n",
    "    f11_f='optional',\n",
    "    f12_f='optional',\n",
    "    f13_f='optional',\n",
    "    f14_f='optional',\n",
    "    f15_f='optional',\n",
    "    f16_f='optional',\n",
    "    f17_f='optional',\n",
    "    f18_f='optional',\n",
    "    f19_f='optional',\n",
    "    f20_f='optional',\n",
    "    f21_f='optional',\n",
    "    f22_f='optional',\n",
    "    f23_f='optional',\n",
    "    f24_f='optional',\n",
    "    f25_f='optional',\n",
    "    fieldnam_f='optional',\n",
    "    retrieval='BADGAP=1',\n",
    ")"
   ]
  },
  {
   "cell_type": "code",
   "execution_count": 34,
   "id": "a10cb014",
   "metadata": {},
   "outputs": [],
   "source": [
    "dm.output(\n",
    "    in_i='badgap',\n",
    "    fieldlst_i='optional',\n",
    "    f1_f='optional',\n",
    "    f2_f='optional',\n",
    "    f3_f='optional',\n",
    "    f4_f='optional',\n",
    "    f5_f='optional',\n",
    "    f6_f='optional',\n",
    "    f7_f='optional',\n",
    "    f8_f='optional',\n",
    "    f9_f='optional',\n",
    "    f10_f='optional',\n",
    "    f11_f='optional',\n",
    "    f12_f='optional',\n",
    "    f13_f='optional',\n",
    "    f14_f='optional',\n",
    "    f15_f='optional',\n",
    "    f16_f='optional',\n",
    "    f17_f='optional',\n",
    "    f18_f='optional',\n",
    "    f19_f='optional',\n",
    "    f20_f='optional',\n",
    "    f21_f='optional',\n",
    "    f22_f='optional',\n",
    "    f23_f='optional',\n",
    "    f24_f='optional',\n",
    "    f25_f='optional',\n",
    "    fieldnam_f='optional',\n",
    "    csv_p=1,\n",
    "    nodd_p=0,\n",
    "    dplace_p=-1,\n",
    "    implicit_p=0,\n",
    "    csv_o='missing_sample_intervals.csv',\n",
    "    retrieval='optional',\n",
    ")"
   ]
  },
  {
   "cell_type": "markdown",
   "id": "47247eea",
   "metadata": {},
   "source": [
    "Bugs pada dm.count (sudah dijelaskan di atas)\n",
    "\n",
    "dm.count(\n",
    "    in_i='badgap',\n",
    "    out_o='t_1',\n",
    "    keys_f=['BHID'],\n",
    "    retrieval='optional',\n",
    ")"
   ]
  },
  {
   "cell_type": "code",
   "execution_count": 35,
   "id": "70467608",
   "metadata": {},
   "outputs": [
    {
     "data": {
      "text/plain": [
       "'count &in=badgap &out=t_1 *key1=BHID'"
      ]
     },
     "execution_count": 35,
     "metadata": {},
     "output_type": "execute_result"
    }
   ],
   "source": [
    "command_count = \"count &in=badgap &out=t_1 *key1=BHID\"\n",
    "command_count"
   ]
  },
  {
   "cell_type": "code",
   "execution_count": 36,
   "id": "b054d084",
   "metadata": {},
   "outputs": [],
   "source": [
    "oScript.Parsecommand(command_count)"
   ]
  },
  {
   "cell_type": "code",
   "execution_count": 37,
   "id": "938df9e7",
   "metadata": {},
   "outputs": [],
   "source": [
    "dm.copy(in_i='badgap', out_o='t_bad', retrieval='optional')"
   ]
  },
  {
   "cell_type": "code",
   "execution_count": 38,
   "id": "933c8cd1",
   "metadata": {},
   "outputs": [],
   "source": [
    "dm.delete(in_i='badgap', confirm_p='optional', retrieval='optional')"
   ]
  },
  {
   "cell_type": "markdown",
   "id": "cac0c775",
   "metadata": {},
   "source": [
    "if t_bad > 0:\n",
    "    print(\"There are + t_1 drillholes in + HOLES + with sample interval gaps. \\n\\n Look at file MISSING_SAMPLE_INTERVALS.CSV for a list of the samples \\n above and below the gap. \\n Fix Database and then rerun script.\")"
   ]
  },
  {
   "cell_type": "markdown",
   "id": "7ce07d08",
   "metadata": {},
   "source": [
    "Cari : Jika t_bad > 0, print : There are + t_1 drillholes in + HOLES + with sample interval gaps. \\n\\n Look at file MISSING_SAMPLE_INTERVALS.CSV for a list of the samples \\n above and below the gap. \\n Fix Database and then rerun script."
   ]
  },
  {
   "cell_type": "markdown",
   "id": "13b4a3f2",
   "metadata": {},
   "source": [
    "### Cek >3 layer per drillhole dan buat laporan csv-nya\n",
    "### Buat single sample untuk masing-masing unit litologi"
   ]
  },
  {
   "cell_type": "code",
   "execution_count": 39,
   "id": "f435418e",
   "metadata": {},
   "outputs": [],
   "source": [
    "dm.compdh(\n",
    "    in_i='t_holes',\n",
    "    out_o='t_13',\n",
    "    bhid_f='BHID',\n",
    "    from_f='FROM',\n",
    "    to_f='TO',\n",
    "    density_f='optional',\n",
    "    coreloss_f='optional',\n",
    "    corerec_f='optional',\n",
    "    zone_f='LYR',\n",
    "    interval_p='100',\n",
    "    mingap_p='0.001',\n",
    "    maxgap_p=0.001,\n",
    "    mincomp_p='0.1',\n",
    "    loss_p='optional',\n",
    "    start_p=0,\n",
    "    mode_p=0,\n",
    "    print_p=0,\n",
    "    retrieval='optional',\n",
    ")"
   ]
  },
  {
   "cell_type": "code",
   "execution_count": 40,
   "id": "5c821f52",
   "metadata": {},
   "outputs": [],
   "source": [
    "dm.sortx(\n",
    "    in_i='t_13',\n",
    "    out_o='t_14',\n",
    "    key1_f='BHID',\n",
    "    key2_f='LYR',\n",
    "    key3_f='optional',\n",
    "    key4_f='optional',\n",
    "    key5_f='optional',\n",
    "    key6_f='optional',\n",
    "    key7_f='optional',\n",
    "    key8_f='optional',\n",
    "    key9_f='optional',\n",
    "    key10_f='optional',\n",
    "    order_p=1,\n",
    "    keysfrst_p=1,\n",
    "    roworder_p=1,\n",
    "    retrieval='optional',\n",
    ")"
   ]
  },
  {
   "cell_type": "code",
   "execution_count": 41,
   "id": "5365eab2",
   "metadata": {},
   "outputs": [],
   "source": [
    "dm.selcop(\n",
    "    in_i='t_14',\n",
    "    fieldlst_i='optional',\n",
    "    out_o='t_14a',\n",
    "    f1_f='BHID',\n",
    "    f2_f='LYR',\n",
    "    f3_f='optional',\n",
    "    f4_f='optional',\n",
    "    f5_f='optional',\n",
    "    f6_f='optional',\n",
    "    f7_f='optional',\n",
    "    f8_f='optional',\n",
    "    f9_f='optional',\n",
    "    f10_f='optional',\n",
    "    f11_f='optional',\n",
    "    f12_f='optional',\n",
    "    f13_f='optional',\n",
    "    f14_f='optional',\n",
    "    f15_f='optional',\n",
    "    f16_f='optional',\n",
    "    f17_f='optional',\n",
    "    f18_f='optional',\n",
    "    f19_f='optional',\n",
    "    f20_f='optional',\n",
    "    f21_f='optional',\n",
    "    f22_f='optional',\n",
    "    f23_f='optional',\n",
    "    f24_f='optional',\n",
    "    f25_f='optional',\n",
    "    fieldnam_f='optional',\n",
    "    retrieval='optional',\n",
    ")"
   ]
  },
  {
   "cell_type": "code",
   "execution_count": 42,
   "id": "e451bcca",
   "metadata": {},
   "outputs": [
    {
     "data": {
      "text/plain": [
       "'count &in=t_14a &out=t_15 *key1=BHID *key2=LYR'"
      ]
     },
     "execution_count": 42,
     "metadata": {},
     "output_type": "execute_result"
    }
   ],
   "source": [
    "command_count = \"count &in=t_14a &out=t_15 *key1=BHID *key2=LYR\"\n",
    "command_count"
   ]
  },
  {
   "cell_type": "code",
   "execution_count": 43,
   "id": "1eaf9208",
   "metadata": {},
   "outputs": [],
   "source": [
    "oScript.Parsecommand(command_count)"
   ]
  },
  {
   "cell_type": "markdown",
   "id": "8f40bfef",
   "metadata": {},
   "source": [
    "#### Cek >1 layer untuk tiap domain (misal LIM antara upper dan lower SAP) "
   ]
  },
  {
   "cell_type": "code",
   "execution_count": 44,
   "id": "a38613cf",
   "metadata": {},
   "outputs": [],
   "source": [
    "dm.copy(in_i='t_15', out_o='gt1layer', retrieval='COUNT>1.5')"
   ]
  },
  {
   "cell_type": "code",
   "execution_count": 45,
   "id": "39dc940d",
   "metadata": {},
   "outputs": [],
   "source": [
    "dm.output(\n",
    "    in_i='gt1layer',\n",
    "    fieldlst_i='optional',\n",
    "    f1_f='optional',\n",
    "    f2_f='optional',\n",
    "    f3_f='optional',\n",
    "    f4_f='optional',\n",
    "    f5_f='optional',\n",
    "    f6_f='optional',\n",
    "    f7_f='optional',\n",
    "    f8_f='optional',\n",
    "    f9_f='optional',\n",
    "    f10_f='optional',\n",
    "    f11_f='optional',\n",
    "    f12_f='optional',\n",
    "    f13_f='optional',\n",
    "    f14_f='optional',\n",
    "    f15_f='optional',\n",
    "    f16_f='optional',\n",
    "    f17_f='optional',\n",
    "    f18_f='optional',\n",
    "    f19_f='optional',\n",
    "    f20_f='optional',\n",
    "    f21_f='optional',\n",
    "    f22_f='optional',\n",
    "    f23_f='optional',\n",
    "    f24_f='optional',\n",
    "    f25_f='optional',\n",
    "    fieldnam_f='optional',\n",
    "    csv_p=1,\n",
    "    nodd_p=0,\n",
    "    dplace_p=-1,\n",
    "    implicit_p=0,\n",
    "    csv_o='gt1layer.csv',\n",
    "    retrieval='optional',\n",
    ")"
   ]
  },
  {
   "cell_type": "code",
   "execution_count": 46,
   "id": "b5d7b203",
   "metadata": {},
   "outputs": [
    {
     "data": {
      "text/plain": [
       "'count &in=gt1layer &out=t_16 *key1=BHID'"
      ]
     },
     "execution_count": 46,
     "metadata": {},
     "output_type": "execute_result"
    }
   ],
   "source": [
    "command_count = \"count &in=gt1layer &out=t_16 *key1=BHID\"\n",
    "command_count"
   ]
  },
  {
   "cell_type": "code",
   "execution_count": 47,
   "id": "a4ba5f19",
   "metadata": {},
   "outputs": [],
   "source": [
    "oScript.Parsecommand(command_count)"
   ]
  },
  {
   "cell_type": "code",
   "execution_count": 48,
   "id": "5203fe27",
   "metadata": {},
   "outputs": [],
   "source": [
    "dm.copy(in_i='gt1layer', out_o='t_gt', retrieval='COUNT>1.5')"
   ]
  },
  {
   "cell_type": "code",
   "execution_count": 49,
   "id": "a0ea065a",
   "metadata": {},
   "outputs": [],
   "source": [
    "dm.delete(in_i='gt1layer', confirm_p='optional', retrieval='optional')"
   ]
  },
  {
   "cell_type": "markdown",
   "id": "282c1d89",
   "metadata": {},
   "source": [
    "If t_gt > 0, if(!confirm(\"There are \" + recs4 + \" drillholes in \" + tbHOLES.value + \" with > 3 \" + tbFIELD.value + \" values.\" +\n",
    "\t\t\t\"\\n\\nLook at file GT1LAYER.CSV for a list of the holes\" +\n",
    "\t\t\t\"\\n\\nClick on Cancel to go fix Database and then rerun script.\\nOr Click on OK to continue.\")){\n",
    "\tdm.command(\"delete-file 't_*' 'yes'\");"
   ]
  },
  {
   "cell_type": "markdown",
   "id": "5d5df49c",
   "metadata": {},
   "source": [
    "### Membuat LIM Bottom\n",
    "### Gunakan filter untuk memilih field value yang merupakan lokasi bottom yang kita inginkan"
   ]
  },
  {
   "cell_type": "code",
   "execution_count": 50,
   "id": "5cf35ed7",
   "metadata": {},
   "outputs": [],
   "source": [
    "dm.selcop(\n",
    "    in_i='t_holes',\n",
    "    fieldlst_i='optional',\n",
    "    out_o='t_17',\n",
    "    f1_f='BHID',\n",
    "    f2_f='FROM',\n",
    "    f3_f='TO',\n",
    "    f4_f='X',\n",
    "    f5_f='Y',\n",
    "    f6_f='Z',\n",
    "    f7_f='LENGTH',\n",
    "    f8_f='A0',\n",
    "    f9_f='B0',\n",
    "    f10_f='C0',\n",
    "    f11_f='RADIUS',\n",
    "    f12_f='LYR',\n",
    "    f13_f='optional',\n",
    "    f14_f='optional',\n",
    "    f15_f='optional',\n",
    "    f16_f='optional',\n",
    "    f17_f='optional',\n",
    "    f18_f='optional',\n",
    "    f19_f='optional',\n",
    "    f20_f='optional',\n",
    "    f21_f='optional',\n",
    "    f22_f='optional',\n",
    "    f23_f='optional',\n",
    "    f24_f='optional',\n",
    "    f25_f='optional',\n",
    "    fieldnam_f='optional',\n",
    "    retrieval=\"LYR='LIM'\",\n",
    ")"
   ]
  },
  {
   "cell_type": "code",
   "execution_count": 51,
   "id": "8c28afdf",
   "metadata": {},
   "outputs": [],
   "source": [
    "dm.extra(\n",
    "    in_i='t_17',\n",
    "    out_o='t_18',\n",
    "    print_p='optional',\n",
    "    approx_p='optional',\n",
    "    expression=['LAST;N=0 IF(NEXT(BHID)!=BHID) LAST=1 END', 'IF(LAST==1) ZPT=Z-((LENGTH/2)*SIN(B0)) END', 'IF(LAST==1) XPT=X+((LENGTH/2)*COS(B0))*SIN(A0) END', 'IF(LAST==1) YPT=Y+((LENGTH/2)*COS(B0))*COS(A0) END'],\n",
    "    retrieval='optional',\n",
    ")"
   ]
  },
  {
   "cell_type": "code",
   "execution_count": 52,
   "id": "236137b4",
   "metadata": {},
   "outputs": [],
   "source": [
    "dm.extra(\n",
    "    in_i='t_18',\n",
    "    out_o='t_19',\n",
    "    print_p='optional',\n",
    "    approx_p='optional',\n",
    "    expression=['COLOUR=2', 'SYMBOL=201', 'ERASE(X,Y,Z,FROM,TO)', 'ERASE(A0,B0,C0,RADIUS)'],\n",
    "    retrieval='LAST=1',\n",
    ")"
   ]
  },
  {
   "cell_type": "code",
   "execution_count": 53,
   "id": "631c9a3e",
   "metadata": {},
   "outputs": [],
   "source": [
    "dm.selcop(\n",
    "    in_i='t_19',\n",
    "    fieldlst_i='optional',\n",
    "    out_o='t_20',\n",
    "    f1_f='XPT',\n",
    "    f2_f='YPT',\n",
    "    f3_f='ZPT',\n",
    "    f4_f='COLOUR',\n",
    "    f5_f='SYMBOL',\n",
    "    f6_f='optional',\n",
    "    f7_f='optional',\n",
    "    f8_f='optional',\n",
    "    f9_f='optional',\n",
    "    f10_f='optional',\n",
    "    f11_f='optional',\n",
    "    f12_f='optional',\n",
    "    f13_f='optional',\n",
    "    f14_f='optional',\n",
    "    f15_f='optional',\n",
    "    f16_f='optional',\n",
    "    f17_f='optional',\n",
    "    f18_f='optional',\n",
    "    f19_f='optional',\n",
    "    f20_f='optional',\n",
    "    f21_f='optional',\n",
    "    f22_f='optional',\n",
    "    f23_f='optional',\n",
    "    f24_f='optional',\n",
    "    f25_f='optional',\n",
    "    fieldnam_f='optional',\n",
    "    retrieval='optional',\n",
    ")"
   ]
  },
  {
   "cell_type": "code",
   "execution_count": 54,
   "id": "6331bb96",
   "metadata": {},
   "outputs": [],
   "source": [
    "dm.sortx(\n",
    "    in_i='ltoppts',\n",
    "    out_o='t_limtop',\n",
    "    key1_f='XPT',\n",
    "    key2_f='YPT',\n",
    "    key3_f='ZPT',\n",
    "    key4_f='optional',\n",
    "    key5_f='optional',\n",
    "    key6_f='optional',\n",
    "    key7_f='optional',\n",
    "    key8_f='optional',\n",
    "    key9_f='optional',\n",
    "    key10_f='optional',\n",
    "    order_p=1,\n",
    "    keysfrst_p=1,\n",
    "    roworder_p=1,\n",
    "    retrieval='optional',\n",
    ")"
   ]
  },
  {
   "cell_type": "code",
   "execution_count": 55,
   "id": "bc3c245c",
   "metadata": {},
   "outputs": [],
   "source": [
    "dm.sortx(\n",
    "    in_i='t_20',\n",
    "    out_o='t_limbot',\n",
    "    key1_f='XPT',\n",
    "    key2_f='YPT',\n",
    "    key3_f='ZPT',\n",
    "    key4_f='optional',\n",
    "    key5_f='optional',\n",
    "    key6_f='optional',\n",
    "    key7_f='optional',\n",
    "    key8_f='optional',\n",
    "    key9_f='optional',\n",
    "    key10_f='optional',\n",
    "    order_p=1,\n",
    "    keysfrst_p=1,\n",
    "    roworder_p=1,\n",
    "    retrieval='optional',\n",
    ")"
   ]
  },
  {
   "cell_type": "markdown",
   "id": "3547ce66",
   "metadata": {},
   "source": [
    "### Ganti semua LIM Bottom points yang hilang dengan LIM Top points"
   ]
  },
  {
   "cell_type": "code",
   "execution_count": 56,
   "id": "e3fe76da",
   "metadata": {},
   "outputs": [],
   "source": [
    "dm.diffrn(\n",
    "    in1_i='t_limtop',\n",
    "    in2_i='t_limbot',\n",
    "    out_o='t_dflim',\n",
    "    keys_f=['XPT','YPT'],\n",
    "    retrieval='optional',\n",
    ")"
   ]
  },
  {
   "cell_type": "code",
   "execution_count": 57,
   "id": "709a3873",
   "metadata": {},
   "outputs": [],
   "source": [
    "dm.join(\n",
    "    in1_i='t_limbot',\n",
    "    in2_i='t_dflim',\n",
    "    out_o='t_21',\n",
    "    keys_f=['XPT','YPT'],\n",
    "    subsetr_p=0,\n",
    "    subsetf_p=0,\n",
    "    cartjoin_p=0,\n",
    "    print_p=0,\n",
    "    retrieval='optional',\n",
    ")"
   ]
  },
  {
   "cell_type": "code",
   "execution_count": 58,
   "id": "61621662",
   "metadata": {},
   "outputs": [],
   "source": [
    "dm.selcop(\n",
    "    in_i='t_21',\n",
    "    fieldlst_i='optional',\n",
    "    out_o='t_22',\n",
    "    f1_f='XPT',\n",
    "    f2_f='YPT',\n",
    "    f3_f='ZPT',\n",
    "    f4_f='COLOUR',\n",
    "    f5_f='SYMBOL',\n",
    "    f6_f='optional',\n",
    "    f7_f='optional',\n",
    "    f8_f='optional',\n",
    "    f9_f='optional',\n",
    "    f10_f='optional',\n",
    "    f11_f='optional',\n",
    "    f12_f='optional',\n",
    "    f13_f='optional',\n",
    "    f14_f='optional',\n",
    "    f15_f='optional',\n",
    "    f16_f='optional',\n",
    "    f17_f='optional',\n",
    "    f18_f='optional',\n",
    "    f19_f='optional',\n",
    "    f20_f='optional',\n",
    "    f21_f='optional',\n",
    "    f22_f='optional',\n",
    "    f23_f='optional',\n",
    "    f24_f='optional',\n",
    "    f25_f='optional',\n",
    "    fieldnam_f='optional',\n",
    "    retrieval='optional',\n",
    ")"
   ]
  },
  {
   "cell_type": "code",
   "execution_count": 59,
   "id": "f70fe252",
   "metadata": {},
   "outputs": [],
   "source": [
    "dm.extra(\n",
    "    in_i='t_22',\n",
    "    out_o='lbotpts',\n",
    "    print_p='optional',\n",
    "    approx_p='optional',\n",
    "    expression=['COLOUR=2','SYMBOL=201',],\n",
    "    retrieval='optional',\n",
    ")"
   ]
  },
  {
   "cell_type": "code",
   "execution_count": 60,
   "id": "566c5176",
   "metadata": {},
   "outputs": [],
   "source": [
    "dm.delete(in_i='t_3', confirm_p='optional', retrieval='optional')"
   ]
  },
  {
   "cell_type": "markdown",
   "id": "e2aecee8",
   "metadata": {},
   "source": [
    "### Membuat SAP Bottom\n",
    "### Gunakan filter untuk memilih field value untuk mendapatkan lokasi bottom yang diinginkan"
   ]
  },
  {
   "cell_type": "code",
   "execution_count": 61,
   "id": "856eaed7",
   "metadata": {},
   "outputs": [],
   "source": [
    "dm.selcop(\n",
    "    in_i='t_holes',\n",
    "    fieldlst_i='optional',\n",
    "    out_o='t_22',\n",
    "    f1_f='BHID',\n",
    "    f2_f='FROM',\n",
    "    f3_f='TO',\n",
    "    f4_f='X',\n",
    "    f5_f='Y',\n",
    "    f6_f='Z',\n",
    "    f7_f='LENGTH',\n",
    "    f8_f='A0',\n",
    "    f9_f='B0',\n",
    "    f10_f='C0',\n",
    "    f11_f='RADIUS',\n",
    "    f12_f='LYR',\n",
    "    f13_f='optional',\n",
    "    f14_f='optional',\n",
    "    f15_f='optional',\n",
    "    f16_f='optional',\n",
    "    f17_f='optional',\n",
    "    f18_f='optional',\n",
    "    f19_f='optional',\n",
    "    f20_f='optional',\n",
    "    f21_f='optional',\n",
    "    f22_f='optional',\n",
    "    f23_f='optional',\n",
    "    f24_f='optional',\n",
    "    f25_f='optional',\n",
    "    fieldnam_f='optional',\n",
    "    retrieval=\"LYR='SAP'\",\n",
    ")"
   ]
  },
  {
   "cell_type": "code",
   "execution_count": 62,
   "id": "265b8d04",
   "metadata": {},
   "outputs": [],
   "source": [
    "dm.extra(\n",
    "    in_i='t_22',\n",
    "    out_o='t_23',\n",
    "    print_p='optional',\n",
    "    approx_p='optional',\n",
    "    expression=['LAST;N=0 IF(NEXT(BHID)!=BHID) LAST=1 END', 'IF(LAST==1) ZPT=Z-((LENGTH/2)*SIN(B0)) END', 'IF(LAST==1) XPT=X+((LENGTH/2)*COS(B0))*SIN(A0) END', 'IF(LAST==1) YPT=Y+((LENGTH/2)*COS(B0))*COS(A0) END'],\n",
    "    retrieval='optional',\n",
    ")"
   ]
  },
  {
   "cell_type": "code",
   "execution_count": 63,
   "id": "498e5dc4",
   "metadata": {},
   "outputs": [],
   "source": [
    "dm.extra(\n",
    "    in_i='t_23',\n",
    "    out_o='t_24',\n",
    "    print_p='optional',\n",
    "    approx_p='optional',\n",
    "    expression=['COLOUR=3','SYMBOL=212','ERASE(X,Y,Z,FROM,TO)'],\n",
    "    retrieval='LAST=1',\n",
    ")"
   ]
  },
  {
   "cell_type": "code",
   "execution_count": 64,
   "id": "316752f7",
   "metadata": {},
   "outputs": [],
   "source": [
    "dm.selcop(\n",
    "    in_i='t_24',\n",
    "    fieldlst_i='optional',\n",
    "    out_o='sbotpts',\n",
    "    f1_f='XPT',\n",
    "    f2_f='YPT',\n",
    "    f3_f='ZPT',\n",
    "    f4_f='COLOUR',\n",
    "    f5_f='SYMBOL',\n",
    "    f6_f='optional',\n",
    "    f7_f='optional',\n",
    "    f8_f='optional',\n",
    "    f9_f='optional',\n",
    "    f10_f='optional',\n",
    "    f11_f='optional',\n",
    "    f12_f='optional',\n",
    "    f13_f='optional',\n",
    "    f14_f='optional',\n",
    "    f15_f='optional',\n",
    "    f16_f='optional',\n",
    "    f17_f='optional',\n",
    "    f18_f='optional',\n",
    "    f19_f='optional',\n",
    "    f20_f='optional',\n",
    "    f21_f='optional',\n",
    "    f22_f='optional',\n",
    "    f23_f='optional',\n",
    "    f24_f='optional',\n",
    "    f25_f='optional',\n",
    "    fieldnam_f='optional',\n",
    "    retrieval='optional',\n",
    ")"
   ]
  },
  {
   "cell_type": "markdown",
   "id": "11abedc3",
   "metadata": {},
   "source": [
    "#### Ganti points SAP yang hilang dengan points LIM bottom / Replace any missing SAP points with Bottom LIM points"
   ]
  },
  {
   "cell_type": "code",
   "execution_count": 65,
   "id": "4af36837",
   "metadata": {},
   "outputs": [],
   "source": [
    "dm.sortx(\n",
    "    in_i='lbotpts',\n",
    "    out_o='t_lstlim',\n",
    "    key1_f='XPT',\n",
    "    key2_f='YPT',\n",
    "    key3_f='ZPT',\n",
    "    key4_f='optional',\n",
    "    key5_f='optional',\n",
    "    key6_f='optional',\n",
    "    key7_f='optional',\n",
    "    key8_f='optional',\n",
    "    key9_f='optional',\n",
    "    key10_f='optional',\n",
    "    order_p=1,\n",
    "    keysfrst_p=1,\n",
    "    roworder_p=1,\n",
    "    retrieval='optional',\n",
    ")"
   ]
  },
  {
   "cell_type": "code",
   "execution_count": 66,
   "id": "619e20d1",
   "metadata": {},
   "outputs": [],
   "source": [
    "dm.sortx(\n",
    "    in_i='sbotpts',\n",
    "    out_o='t_lstsap',\n",
    "    key1_f='XPT',\n",
    "    key2_f='YPT',\n",
    "    key3_f='ZPT',\n",
    "    key4_f='optional',\n",
    "    key5_f='optional',\n",
    "    key6_f='optional',\n",
    "    key7_f='optional',\n",
    "    key8_f='optional',\n",
    "    key9_f='optional',\n",
    "    key10_f='optional',\n",
    "    order_p=1,\n",
    "    keysfrst_p=1,\n",
    "    roworder_p=1,\n",
    "    retrieval='optional',\n",
    ")"
   ]
  },
  {
   "cell_type": "code",
   "execution_count": 67,
   "id": "29b162c1",
   "metadata": {},
   "outputs": [],
   "source": [
    "dm.diffrn(\n",
    "    in1_i='t_lstlim',\n",
    "    in2_i='t_lstsap',\n",
    "    out_o='t_dfsap',\n",
    "    keys_f=['XPT','YPT'],\n",
    "    retrieval='optional',\n",
    ")"
   ]
  },
  {
   "cell_type": "code",
   "execution_count": 68,
   "id": "60765492",
   "metadata": {},
   "outputs": [],
   "source": [
    "dm.join(\n",
    "    in1_i='t_lstsap',\n",
    "    in2_i='t_dfsap',\n",
    "    out_o='t_25',\n",
    "    keys_f=['XPT','YPT'],\n",
    "    subsetr_p=0,\n",
    "    subsetf_p=0,\n",
    "    cartjoin_p=0,\n",
    "    print_p=0,\n",
    "    retrieval='optional',\n",
    ")"
   ]
  },
  {
   "cell_type": "code",
   "execution_count": 69,
   "id": "c25c50ea",
   "metadata": {},
   "outputs": [],
   "source": [
    "dm.selcop(\n",
    "    in_i='t_25',\n",
    "    fieldlst_i='optional',\n",
    "    out_o='t_26',\n",
    "    f1_f='XPT',\n",
    "    f2_f='YPT',\n",
    "    f3_f='ZPT',\n",
    "    f4_f='COLOUR',\n",
    "    f5_f='SYMBOL',\n",
    "    f6_f='optional',\n",
    "    f7_f='optional',\n",
    "    f8_f='optional',\n",
    "    f9_f='optional',\n",
    "    f10_f='optional',\n",
    "    f11_f='optional',\n",
    "    f12_f='optional',\n",
    "    f13_f='optional',\n",
    "    f14_f='optional',\n",
    "    f15_f='optional',\n",
    "    f16_f='optional',\n",
    "    f17_f='optional',\n",
    "    f18_f='optional',\n",
    "    f19_f='optional',\n",
    "    f20_f='optional',\n",
    "    f21_f='optional',\n",
    "    f22_f='optional',\n",
    "    f23_f='optional',\n",
    "    f24_f='optional',\n",
    "    f25_f='optional',\n",
    "    fieldnam_f='optional',\n",
    "    retrieval='optional',\n",
    ")"
   ]
  },
  {
   "cell_type": "code",
   "execution_count": 70,
   "id": "d11a6091",
   "metadata": {},
   "outputs": [],
   "source": [
    "dm.extra(\n",
    "    in_i='t_26',\n",
    "    out_o='sbotpts',\n",
    "    print_p='optional',\n",
    "    approx_p='optional',\n",
    "    expression=['COLOUR=3','SYMBOL=212'],\n",
    "    retrieval='optional',\n",
    ")"
   ]
  },
  {
   "cell_type": "code",
   "execution_count": 71,
   "id": "b9168af6",
   "metadata": {},
   "outputs": [
    {
     "data": {
      "text/plain": [
       "\"delete-file 't_*' 'yes'\""
      ]
     },
     "execution_count": 71,
     "metadata": {},
     "output_type": "execute_result"
    }
   ],
   "source": [
    "delete_file = \"delete-file 't_*' 'yes'\"\n",
    "delete_file "
   ]
  },
  {
   "cell_type": "code",
   "execution_count": 72,
   "id": "2cd2395e",
   "metadata": {},
   "outputs": [],
   "source": [
    "oScript.Parsecommand(delete_file)"
   ]
  },
  {
   "cell_type": "code",
   "execution_count": 73,
   "id": "56fa1450",
   "metadata": {},
   "outputs": [
    {
     "name": "stdout",
     "output_type": "stream",
     "text": [
      "MEMBUAT POINTS SELESAI\n"
     ]
    }
   ],
   "source": [
    "print(\"MEMBUAT POINTS SELESAI\")"
   ]
  }
 ],
 "metadata": {
  "kernelspec": {
   "display_name": "Python 3 (ipykernel)",
   "language": "python",
   "name": "python3"
  },
  "language_info": {
   "codemirror_mode": {
    "name": "ipython",
    "version": 3
   },
   "file_extension": ".py",
   "mimetype": "text/x-python",
   "name": "python",
   "nbconvert_exporter": "python",
   "pygments_lexer": "ipython3",
   "version": "3.9.7"
  }
 },
 "nbformat": 4,
 "nbformat_minor": 5
}
