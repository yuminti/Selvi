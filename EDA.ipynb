{
 "cells": [
  {
   "cell_type": "markdown",
   "id": "192dbcfa",
   "metadata": {},
   "source": [
    "# Exploratory Data Analysis (EDA) Pada Data Assay Nikel Laterite\n",
    "\n",
    "Setelah data cleaning, kita melakukan Exploratory Data Analysis pada data Assay.\n",
    "Dari EDA kita bisa melihat kecenderungan data sekaligus juga melihat kesesuaian interpretasi layer geologi yang dilakukan geologis pada tahap Evaluation dengan model umum profil laterit.\n",
    "Contoh hal yang harus diperhatikan :\n",
    "* Domaining Fe, pada layer limonite tidak boleh lebih dari satu domain, ditunjukkan oleh histogram yang positively skewed.\n",
    "* Cluster MgO pada bedrock cenderung tinggi, sedangkan di limonite akan rendah, dengan sedikit outlier (kategori MgO, Fe, Ni biasanya ditentukan oleh Principal Geologist untuk area tertentu, pada data ini MgO > 25 = tinggi (penciri area bedrock)).\n",
    "* Cluster Fe pada limonite cenderung paling tinggi, dan sebaliknya di bedrock, gunakan scatter plot Fe6 vs MgO6 Limonite.\n",
    "* Jika outlier lebih besar dari 5% kembalikan data Assay pada Geologis Evaluasi untuk diinterpretasi dan di kros cek dengan foto core atau direassay. \n",
    "* Sebaran Ni limonite berbentuk normal distribution\n",
    "* Gunakan scatter plot Fe vs Cr di Saprolite untuk melihat korelasi positif keduanya.\n",
    "* Dst yang dianggap perlu.\n",
    " \n",
    " ##Credit untuk Indonesia Belajar\n",
    "// from IPython.display import YouTubeVideo\n",
    "// YouTubeVideo('Op3019SFYzI')"
   ]
  },
  {
   "cell_type": "markdown",
   "id": "d35f81a1",
   "metadata": {},
   "source": [
    "### Import Modules"
   ]
  },
  {
   "cell_type": "code",
   "execution_count": null,
   "id": "f3b9cd45",
   "metadata": {},
   "outputs": [],
   "source": [
    "import pandas as pd # Modul yang dipakai untuk mengolah dan analisis data"
   ]
  },
  {
   "cell_type": "markdown",
   "id": "b9ccf31a",
   "metadata": {},
   "source": [
    "#### Load dataset"
   ]
  },
  {
   "cell_type": "code",
   "execution_count": null,
   "id": "c3ef3907",
   "metadata": {
    "scrolled": true
   },
   "outputs": [],
   "source": [
    "assay_df = pd.read_excel('assay.xls') # memuat file csv sebagai data frame\n",
    "assay_df.head() # tampilkan 5 baris pertama\n"
   ]
  },
  {
   "cell_type": "markdown",
   "id": "142a1b4c",
   "metadata": {},
   "source": [
    "#### Identify the shape of the datatset"
   ]
  },
  {
   "cell_type": "code",
   "execution_count": null,
   "id": "6991c4ef",
   "metadata": {},
   "outputs": [],
   "source": [
    "assay_df.shape # bentuk/dimensi dataset (baris,kolom)"
   ]
  },
  {
   "cell_type": "markdown",
   "id": "22d0edc8",
   "metadata": {},
   "source": [
    "#### Identify missing values"
   ]
  },
  {
   "cell_type": "code",
   "execution_count": null,
   "id": "76345c76",
   "metadata": {},
   "outputs": [],
   "source": [
    "# assay_df.isnull().values.any()\n",
    "assay_df.isna().values.any() # mendeteksi keberadaan nilai kosong"
   ]
  },
  {
   "cell_type": "code",
   "execution_count": null,
   "id": "b2a0b628",
   "metadata": {},
   "outputs": [],
   "source": [
    "#Check null atau nan di masing-masing kolom\n",
    "print(\"\\n\\nNumber of empty cells or Nans in the datasets :\\n\",'#' * 40)\n",
    "print(\"\\nAssay_df : \\n\",'-' * 20,\"\\n\", assay_df.isnull().sum())"
   ]
  },
  {
   "cell_type": "markdown",
   "id": "936d11ef",
   "metadata": {},
   "source": [
    "Untuk EDA, kita tidak hilangkan NaN atau empty data, tetapi untuk proses estimasi, sebaiknya data NaN diganti dengan -9999"
   ]
  },
  {
   "cell_type": "markdown",
   "id": "91f59d1a",
   "metadata": {},
   "source": [
    "#### Get the list of columns"
   ]
  },
  {
   "cell_type": "code",
   "execution_count": null,
   "id": "825e0028",
   "metadata": {},
   "outputs": [],
   "source": [
    "assay_df.columns # daftar nama kolom"
   ]
  },
  {
   "cell_type": "markdown",
   "id": "1c8c4592",
   "metadata": {},
   "source": [
    "#### Identify data types for each column"
   ]
  },
  {
   "cell_type": "code",
   "execution_count": null,
   "id": "4ec39501",
   "metadata": {},
   "outputs": [],
   "source": [
    "assay_df.dtypes # tipe data untuk tiap kolom"
   ]
  },
  {
   "cell_type": "markdown",
   "id": "a298373d",
   "metadata": {},
   "source": [
    "#### Get bassic dataset information"
   ]
  },
  {
   "cell_type": "code",
   "execution_count": null,
   "id": "87678539",
   "metadata": {},
   "outputs": [],
   "source": [
    "assay_df.info() # informasi dataset"
   ]
  },
  {
   "cell_type": "markdown",
   "id": "be9394ac",
   "metadata": {},
   "source": [
    "#### Identify duplicate entries/rows"
   ]
  },
  {
   "cell_type": "code",
   "execution_count": null,
   "id": "3ee8782a",
   "metadata": {},
   "outputs": [],
   "source": [
    "# assay_df[assay_df.duplicated(keep=False)] # tampilkan seluruh baris dengan duplikasi\n",
    "assay_df[assay_df.duplicated()] # tampilkan hanya baris duplikasi sekunder"
   ]
  },
  {
   "cell_type": "code",
   "execution_count": null,
   "id": "d1eef173",
   "metadata": {},
   "outputs": [],
   "source": [
    "assay_df.duplicated().value_counts() # hitung jumlah duplikasi data"
   ]
  },
  {
   "cell_type": "markdown",
   "id": "72ce5c51",
   "metadata": {},
   "source": [
    "#### Drop duplicate entries/rows"
   ]
  },
  {
   "cell_type": "code",
   "execution_count": null,
   "id": "28e42f97",
   "metadata": {},
   "outputs": [],
   "source": [
    "assay_df.drop_duplicates(inplace=True) # menghapus duplikasi data\n",
    "assay_df.shape"
   ]
  },
  {
   "cell_type": "markdown",
   "id": "ad14d2c4",
   "metadata": {},
   "source": [
    "#### Describe the dataset"
   ]
  },
  {
   "cell_type": "code",
   "execution_count": null,
   "id": "81101c73",
   "metadata": {},
   "outputs": [],
   "source": [
    "assay_df.describe() # deskripsi data"
   ]
  },
  {
   "cell_type": "markdown",
   "id": "00b7a678",
   "metadata": {},
   "source": [
    "#### Correlation Matrix"
   ]
  },
  {
   "cell_type": "code",
   "execution_count": null,
   "id": "7b014acb",
   "metadata": {},
   "outputs": [],
   "source": [
    "assay_df.corr() # korelasi antar kolom"
   ]
  },
  {
   "cell_type": "markdown",
   "id": "67353300",
   "metadata": {},
   "source": [
    "## Drillhole Dataset: Data Visualisation"
   ]
  },
  {
   "cell_type": "markdown",
   "id": "7c5dea06",
   "metadata": {},
   "source": [
    "#### Import Modules"
   ]
  },
  {
   "cell_type": "code",
   "execution_count": null,
   "id": "579660ec",
   "metadata": {},
   "outputs": [],
   "source": [
    "import matplotlib.pyplot as plt # visualisasi data\n",
    "import seaborn as sns # visualisasi data\n",
    "\n",
    "# output dari visualisasi data akan diarahkan ke notebook\n",
    "%matplotlib inline "
   ]
  },
  {
   "cell_type": "markdown",
   "id": "e5cc39f2",
   "metadata": {},
   "source": [
    "#### Histogram"
   ]
  },
  {
   "cell_type": "code",
   "execution_count": null,
   "id": "b9cdb273",
   "metadata": {},
   "outputs": [],
   "source": [
    "assay_df.hist(column='FE', by='LYR', figsize=(6,6), bins=20)\n",
    "plt.tight_layout()"
   ]
  },
  {
   "cell_type": "code",
   "execution_count": null,
   "id": "e87cd7df",
   "metadata": {},
   "outputs": [],
   "source": [
    "assay_df.hist(column='NI', by='LYR', figsize=(6,6), bins=20)\n",
    "plt.tight_layout()"
   ]
  },
  {
   "cell_type": "code",
   "execution_count": null,
   "id": "57bbc67d",
   "metadata": {},
   "outputs": [],
   "source": [
    "assay_df.hist(column='MGO', by='LYR', figsize=(6,6), bins=20)\n",
    "plt.tight_layout()"
   ]
  },
  {
   "cell_type": "code",
   "execution_count": null,
   "id": "5727c340",
   "metadata": {},
   "outputs": [],
   "source": [
    "assay_df.hist(column='CO', by='LYR', figsize=(6,6), bins=1000)\n",
    "plt.tight_layout()"
   ]
  },
  {
   "cell_type": "markdown",
   "id": "83d2d99b",
   "metadata": {},
   "source": [
    "#### Dari histogram Fe pada limonite, saprolite dan bedrock terlihat bahwa Fe, Ni dan MgO sesuai profil laterit, sehingga data assay ini interpretasi layernya sudah bagus. "
   ]
  },
  {
   "cell_type": "markdown",
   "id": "9025ec75",
   "metadata": {},
   "source": [
    "#### Scatter Plot"
   ]
  },
  {
   "cell_type": "code",
   "execution_count": null,
   "id": "4cc2696f",
   "metadata": {},
   "outputs": [],
   "source": [
    "df1=assay_df[assay_df['LYR']=='LIM']\n",
    "df2=assay_df[assay_df['LYR']=='SAP']\n",
    "df3=assay_df[assay_df['LYR']=='BRK']\n",
    "\n",
    "sns.scatterplot(x='NI', y='FE', color='blue', data=df1,label = 'LIM')"
   ]
  },
  {
   "cell_type": "code",
   "execution_count": null,
   "id": "b6f1b7d4",
   "metadata": {},
   "outputs": [],
   "source": [
    "Cek ulang sample dengan Ni > 1.5 dan Fe < 25, perhatikan fotocore dan posisi from to nya"
   ]
  },
  {
   "cell_type": "code",
   "execution_count": null,
   "id": "c07fa779",
   "metadata": {},
   "outputs": [],
   "source": [
    "sns.scatterplot(x='NI', y='FE', color = 'orange', data=df2,label = 'SAP')"
   ]
  },
  {
   "cell_type": "markdown",
   "id": "b9605049",
   "metadata": {},
   "source": [
    "Cek ulang sample dengan Ni<0.5 dan Fe < 10 (mungkin brk, cek MgO dan Co nya)"
   ]
  },
  {
   "cell_type": "code",
   "execution_count": null,
   "id": "910c235d",
   "metadata": {},
   "outputs": [],
   "source": [
    "sns.scatterplot(x='NI', y='FE', color = 'green', data=df3,label ='BRK')"
   ]
  },
  {
   "cell_type": "code",
   "execution_count": null,
   "id": "f88ce242",
   "metadata": {},
   "outputs": [],
   "source": [
    "sns.scatterplot(x='NI', y='FE', data=assay_df, hue='LYR')\n"
   ]
  },
  {
   "cell_type": "code",
   "execution_count": null,
   "id": "d3bd609e",
   "metadata": {},
   "outputs": [],
   "source": [
    "sns.scatterplot(x='NI', y='MGO', color='blue', data=df1,label = 'LIM')"
   ]
  },
  {
   "cell_type": "markdown",
   "id": "29bdd15a",
   "metadata": {},
   "source": [
    "Cek Outliers"
   ]
  },
  {
   "cell_type": "code",
   "execution_count": null,
   "id": "f4327320",
   "metadata": {},
   "outputs": [],
   "source": [
    "sns.scatterplot(x='NI', y='MGO', color = 'orange', data=df2,label = 'SAP')"
   ]
  },
  {
   "cell_type": "code",
   "execution_count": null,
   "id": "c965ecb3",
   "metadata": {},
   "outputs": [],
   "source": [
    "Cek Low Ni with high MgO"
   ]
  },
  {
   "cell_type": "code",
   "execution_count": null,
   "id": "45e17076",
   "metadata": {},
   "outputs": [],
   "source": [
    "sns.scatterplot(x='NI', y='MGO', color = 'green', data=df3,label ='BRK')"
   ]
  },
  {
   "cell_type": "markdown",
   "id": "c0d4e074",
   "metadata": {},
   "source": [
    "Cek Ni > 1 dan MgO < 25"
   ]
  },
  {
   "cell_type": "code",
   "execution_count": null,
   "id": "c0de7d3e",
   "metadata": {},
   "outputs": [],
   "source": [
    "sns.scatterplot(x='NI', y='MGO', data=assay_df, hue='LYR')"
   ]
  },
  {
   "cell_type": "markdown",
   "id": "7726dd22",
   "metadata": {},
   "source": [
    "#### Boxplot"
   ]
  },
  {
   "cell_type": "code",
   "execution_count": null,
   "id": "1d10c584",
   "metadata": {},
   "outputs": [],
   "source": [
    "assay_df.boxplot()\n",
    "plt.tight_layout()"
   ]
  },
  {
   "cell_type": "code",
   "execution_count": null,
   "id": "d5cad2fa",
   "metadata": {},
   "outputs": [],
   "source": [
    "df1.boxplot()\n",
    "plt.tight_layout()"
   ]
  },
  {
   "cell_type": "code",
   "execution_count": null,
   "id": "7e4205cd",
   "metadata": {},
   "outputs": [],
   "source": [
    "df2.boxplot()\n",
    "plt.tight_layout()"
   ]
  },
  {
   "cell_type": "code",
   "execution_count": null,
   "id": "2646ee1e",
   "metadata": {},
   "outputs": [],
   "source": [
    "df3.boxplot()\n",
    "plt.tight_layout()"
   ]
  },
  {
   "cell_type": "markdown",
   "id": "4b19d428",
   "metadata": {},
   "source": [
    "#### Pair Plot"
   ]
  },
  {
   "cell_type": "code",
   "execution_count": null,
   "id": "4c365d9e",
   "metadata": {},
   "outputs": [],
   "source": [
    "sns.pairplot(assay_df, hue='LYR', markers='+')\n",
    "plt.tight_layout()"
   ]
  },
  {
   "cell_type": "markdown",
   "id": "7a97e1af",
   "metadata": {},
   "source": [
    "#### Violin Plot"
   ]
  },
  {
   "cell_type": "code",
   "execution_count": null,
   "id": "9c072204",
   "metadata": {},
   "outputs": [],
   "source": [
    "sns.violinplot(data=assay_df, y='LYR', x='FE', inner='quartile')\n",
    "plt.tight_layout()"
   ]
  },
  {
   "cell_type": "code",
   "execution_count": null,
   "id": "024f6e63",
   "metadata": {},
   "outputs": [],
   "source": [
    "sns.violinplot(data=assay_df, y='LYR', x='NI', inner='quartile')\n",
    "plt.tight_layout()"
   ]
  },
  {
   "cell_type": "code",
   "execution_count": null,
   "id": "9e2b098d",
   "metadata": {},
   "outputs": [],
   "source": [
    "sns.violinplot(data=assay_df, y='LYR', x='MGO', inner='quartile')\n",
    "plt.tight_layout()"
   ]
  },
  {
   "cell_type": "markdown",
   "id": "4abb973b",
   "metadata": {},
   "source": [
    "#### Kesimpulan\n",
    "Pada dasarnya interpretasi profil geologi sudah bisa diterima, dengan catatan beberapa outlier dicek ulang. Proses EDA sudah selesai, berikutnya adalah pemodelan geologi menggunakan metode geostatistik kriging (dan Nearest Neighbour sebagai pembanding). Di bawah ini merupakan estimasi tanpa spatial(collar/koordinat) menggunakan K-Nearest Neighbour hanya untuk pembelajaran/eksperimen machine learning perilaku pada dataset assay Nikel laterite."
   ]
  }
 ],
 "metadata": {
  "kernelspec": {
   "display_name": "Python 3 (ipykernel)",
   "language": "python",
   "name": "python3"
  },
  "language_info": {
   "codemirror_mode": {
    "name": "ipython",
    "version": 3
   },
   "file_extension": ".py",
   "mimetype": "text/x-python",
   "name": "python",
   "nbconvert_exporter": "python",
   "pygments_lexer": "ipython3",
   "version": "3.9.7"
  }
 },
 "nbformat": 4,
 "nbformat_minor": 5
}
